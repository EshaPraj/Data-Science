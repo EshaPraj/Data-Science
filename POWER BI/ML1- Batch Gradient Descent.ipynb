{
 "cells": [
  {
   "cell_type": "code",
   "execution_count": 4,
   "id": "84bf2bfe-7506-4658-91b7-bedd8f44a149",
   "metadata": {},
   "outputs": [],
   "source": [
    "import pandas as pd"
   ]
  },
  {
   "cell_type": "code",
   "execution_count": 5,
   "id": "1307af4a-5854-4491-a037-68beec5901b8",
   "metadata": {},
   "outputs": [],
   "source": [
    "df = pd.read_csv(\"Salary_Data.csv\")\n",
    "\n",
    "# w0, w1 (YearsOfExperience)\n",
    "# X : YearsExperience  (2)\n",
    "# y : Salary\n",
    "# y = w0 + w1 * X"
   ]
  },
  {
   "cell_type": "code",
   "execution_count": 6,
   "id": "8ac96492-ab93-402c-a9c9-16397f8802f2",
   "metadata": {},
   "outputs": [
    {
     "data": {
      "text/plain": [
       "Index(['YearsExperience', 'Salary'], dtype='object')"
      ]
     },
     "execution_count": 6,
     "metadata": {},
     "output_type": "execute_result"
    }
   ],
   "source": [
    "df.columns"
   ]
  },
  {
   "cell_type": "code",
   "execution_count": 7,
   "id": "6655fc0f-ee34-4afc-a98d-4e60ee1ba2b6",
   "metadata": {},
   "outputs": [],
   "source": [
    "X = df[\"YearsExperience\"]\n",
    "y = df[\"Salary\"]"
   ]
  },
  {
   "cell_type": "code",
   "execution_count": 8,
   "id": "75a12dcb-8401-4be3-9c4a-281f652b7ac4",
   "metadata": {},
   "outputs": [],
   "source": [
    "n = len(X)\n",
    "import numpy as np\n",
    "omega0 = np.random.randn(1)\n",
    "omega1 = np.random.randn(1)\n",
    "learning_rate = 0.01  #tune alpha lai change garne (hyperparameter tuning)\n",
    "#kun alpha chai best chha vanera herna = GridSearch [0, 1]\n",
    "n_iterations = 1000 #kati choti chalaune vanera\n"
   ]
  },
  {
   "cell_type": "code",
   "execution_count": 9,
   "id": "39896c26-743b-42e2-a0f5-12e184835cb7",
   "metadata": {},
   "outputs": [
    {
     "data": {
      "text/plain": [
       "array([0.19693496])"
      ]
     },
     "execution_count": 9,
     "metadata": {},
     "output_type": "execute_result"
    }
   ],
   "source": [
    "omega1"
   ]
  },
  {
   "cell_type": "code",
   "execution_count": 10,
   "id": "51962027-1566-4755-b04b-045567d00f0c",
   "metadata": {},
   "outputs": [
    {
     "data": {
      "text/plain": [
       "array([-0.29648582])"
      ]
     },
     "execution_count": 10,
     "metadata": {},
     "output_type": "execute_result"
    }
   ],
   "source": [
    "omega0"
   ]
  },
  {
   "cell_type": "code",
   "execution_count": 11,
   "id": "2b411cda-e9e6-415f-8aad-8bf1555f71e6",
   "metadata": {},
   "outputs": [
    {
     "name": "stdout",
     "output_type": "stream",
     "text": [
      "[25448.17715181]\n",
      "[9501.01390133]\n"
     ]
    }
   ],
   "source": [
    "# GD : y_pred - y_actual \n",
    "\n",
    "# Batch Gradient Descent \n",
    "# Batch = Data\n",
    "\n",
    "for i in range(n_iterations):\n",
    "    y_pred = omega0 + omega1 * X\n",
    "    error = y_pred - y # y_actual = y  error \n",
    "\n",
    "    omega0_d = (2/n) * np.sum(error) # np.sum () -: GPU \n",
    "    omega1_d = (2/n) * np.sum(error * X) # GPU \n",
    "\n",
    "    # GD algorithm\n",
    "    omega0 = omega0 - learning_rate  * omega0_d\n",
    "    omega1 = omega1 - learning_rate  * omega1_d\n",
    "\n",
    "print(omega0)\n",
    "print(omega1)"
   ]
  },
  {
   "cell_type": "code",
   "execution_count": 12,
   "id": "13501e2b-b21f-4f9f-b6d1-d7eaeb0462f3",
   "metadata": {},
   "outputs": [
    {
     "name": "stdout",
     "output_type": "stream",
     "text": [
      "54139.33576178\n"
     ]
    }
   ],
   "source": [
    "#y = 25787.24104409 + 9450.69823923 * X   # y = mx + c y  = w1 * X + w0\n",
    "y = 25787.24104409 + 9450.69823923 * 3    \n",
    "print (y)"
   ]
  },
  {
   "cell_type": "code",
   "execution_count": null,
   "id": "87b396fe-b9b5-435d-aca6-1cbe0b62778c",
   "metadata": {},
   "outputs": [],
   "source": []
  }
 ],
 "metadata": {
  "kernelspec": {
   "display_name": "Python 3 (ipykernel)",
   "language": "python",
   "name": "python3"
  },
  "language_info": {
   "codemirror_mode": {
    "name": "ipython",
    "version": 3
   },
   "file_extension": ".py",
   "mimetype": "text/x-python",
   "name": "python",
   "nbconvert_exporter": "python",
   "pygments_lexer": "ipython3",
   "version": "3.12.4"
  }
 },
 "nbformat": 4,
 "nbformat_minor": 5
}
