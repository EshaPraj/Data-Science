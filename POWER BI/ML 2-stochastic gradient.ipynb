{
 "cells": [
  {
   "cell_type": "code",
   "execution_count": 1,
   "id": "f7ea2bfb-c4f1-4008-9a9d-530efc1d9131",
   "metadata": {},
   "outputs": [],
   "source": [
    "import pandas as pd"
   ]
  },
  {
   "cell_type": "code",
   "execution_count": 2,
   "id": "4d6b5e93-25c2-498d-be4b-b8bfc78a70e9",
   "metadata": {},
   "outputs": [],
   "source": [
    "df = pd.read_csv(\"Salary_Data.csv\")"
   ]
  },
  {
   "cell_type": "code",
   "execution_count": 3,
   "id": "428c6d09-a7f9-424e-9266-e28fdcb3d9d0",
   "metadata": {},
   "outputs": [
    {
     "data": {
      "text/plain": [
       "Index(['YearsExperience', 'Salary'], dtype='object')"
      ]
     },
     "execution_count": 3,
     "metadata": {},
     "output_type": "execute_result"
    }
   ],
   "source": [
    "df.columns"
   ]
  },
  {
   "cell_type": "code",
   "execution_count": 4,
   "id": "f4bfd44a-c598-4e48-ae9e-8b6e065f56bd",
   "metadata": {},
   "outputs": [],
   "source": [
    "X = df[\"YearsExperience\"]\n",
    "y = df[\"Salary\"]"
   ]
  },
  {
   "cell_type": "code",
   "execution_count": 8,
   "id": "7a39ef65-d1b9-4278-ab98-2f62b2e1af76",
   "metadata": {},
   "outputs": [],
   "source": [
    "#stochastic gradient\n",
    "\n",
    "n = len(X)\n",
    "import numpy as np\n",
    "omega0 = np.random.randn(1)\n",
    "omega1 = np.random.randn(1)\n",
    "learning_rate = 0.01  #tune alpha lai change garne (hyperparameter tuning)\n",
    "#kun alpha chai best chha vanera herna = GridSearch [0, 1]\n",
    "n_iterations = 100 #kati choti chalaune vanera"
   ]
  },
  {
   "cell_type": "code",
   "execution_count": 9,
   "id": "59e4b131-4d3e-4359-aae8-9b8df0a92dbd",
   "metadata": {},
   "outputs": [
    {
     "name": "stdout",
     "output_type": "stream",
     "text": [
      "[79172.61343255]\n",
      "[0.63383522]\n"
     ]
    }
   ],
   "source": [
    "for epoch in range(100):\n",
    "    for i in range(n):\n",
    "        random_index = np.random.randint(n)\n",
    "        xi = X[random_index: random_index + 1]\n",
    "        yi = y[random_index: random_index + 1]\n",
    "\n",
    "        y_pred = omega0 + omega1 * xi\n",
    "        error = y_pred - yi\n",
    "\n",
    "        omega0_d = (2) * np.sum(error)\n",
    "        omega1_d = 2 * np.sum(error * xi)\n",
    "\n",
    "        #GD: parameter / weights\n",
    "        omega0 = omega0 - learning_rate * omega0_d\n",
    "        omega01 = omega1 - learning_rate * omega0_d\n",
    "\n",
    "print (omega0)\n",
    "print (omega1)"
   ]
  },
  {
   "cell_type": "code",
   "execution_count": 10,
   "id": "30b2282a-212d-400e-9d92-063ab5bebb35",
   "metadata": {},
   "outputs": [],
   "source": [
    "#minibatch gradient descent\n",
    "\n",
    "n = len(X)\n",
    "import numpy as np\n",
    "omega0 = np.random.randn(1)\n",
    "omega1 = np.random.randn(1)\n",
    "learning_rate = 0.01  \n",
    "n_iterations = 100 \n",
    "batch_size = 5"
   ]
  },
  {
   "cell_type": "code",
   "execution_count": 11,
   "id": "1c991aa5-af8f-4958-a1a3-15609701ac4d",
   "metadata": {},
   "outputs": [
    {
     "name": "stdout",
     "output_type": "stream",
     "text": [
      "[11755.88825984]\n",
      "[11755.6078802]\n"
     ]
    }
   ],
   "source": [
    "for epoch in range(100):\n",
    "    for i in range(0, n, batch_size):   #0, 5, 10, 15, 20\n",
    "        x_batch = X[i: i + batch_size] \n",
    "        y_batch = y[i: i + batch_size]\n",
    "\n",
    "        y_pred = omega0 + omega1 * x_batch\n",
    "        error = y_pred - y_batch\n",
    "\n",
    "        omega0_d = (2/batch_size) * np.sum(error)\n",
    "        omega1_d = (2/batch_size) * np.sum(error * x_batch)\n",
    "\n",
    "        #GD ALGORITHM\n",
    "        omega0 = omega0 - learning_rate * omega0_d\n",
    "        omega1 = omega1 - learning_rate * omega0_d\n",
    "\n",
    "print(omega0)\n",
    "print(omega1)"
   ]
  },
  {
   "cell_type": "code",
   "execution_count": null,
   "id": "f1a850ed-d17e-4966-abcb-ebef332f59fd",
   "metadata": {},
   "outputs": [],
   "source": []
  }
 ],
 "metadata": {
  "kernelspec": {
   "display_name": "Python 3 (ipykernel)",
   "language": "python",
   "name": "python3"
  },
  "language_info": {
   "codemirror_mode": {
    "name": "ipython",
    "version": 3
   },
   "file_extension": ".py",
   "mimetype": "text/x-python",
   "name": "python",
   "nbconvert_exporter": "python",
   "pygments_lexer": "ipython3",
   "version": "3.12.4"
  }
 },
 "nbformat": 4,
 "nbformat_minor": 5
}
