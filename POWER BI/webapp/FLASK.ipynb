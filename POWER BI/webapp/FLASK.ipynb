{
 "cells": [
  {
   "cell_type": "code",
   "execution_count": 39,
   "id": "8dccdf73-e59f-4064-a735-48ec9e434b56",
   "metadata": {},
   "outputs": [
    {
     "data": {
      "text/plain": [
       "'F:\\\\DATA SCIENCE\\\\POWER BI'"
      ]
     },
     "execution_count": 39,
     "metadata": {},
     "output_type": "execute_result"
    }
   ],
   "source": [
    "pwd"
   ]
  },
  {
   "cell_type": "code",
   "execution_count": 24,
   "id": "14168c92-2244-4d8f-a818-5de796c64851",
   "metadata": {},
   "outputs": [
    {
     "name": "stderr",
     "output_type": "stream",
     "text": [
      "WARNING:absl:Compiled the loaded model, but the compiled metrics have yet to be built. `model.compile_metrics` will be empty until you train or evaluate the model.\n"
     ]
    }
   ],
   "source": [
    "#web app\n",
    "Expected = {\n",
    "            \"cylinder\":{ \"min\":3, \"max\":8},\n",
    "            \"displacement\":{ \"min\":68.0, \"max\":455.0},\n",
    "            \"horsepower\":{ \"min\":46.0, \"max\":230.0},\n",
    "            \"weight\":{ \"min\":1613, \"max\":5140},\n",
    "            \"acceleration\":{ \"min\":8.0, \"max\":24.8},\n",
    "            \"year\":{ \"min\":70, \"max\":82},\n",
    "            \"origin\":{ \"min\":1, \"max\":3}\n",
    "}\n",
    "\n",
    "from tensorflow.keras.models import load_model\n",
    "model = load_model(\"model.h5\")"
   ]
  },
  {
   "cell_type": "code",
   "execution_count": 25,
   "id": "039d49e9-657a-46ae-ba1d-f3fb01d498fc",
   "metadata": {},
   "outputs": [],
   "source": [
    "# model.summary()\n",
    "import numpy as np\n",
    "from flask import Flask, request\n",
    "app = Flask(__name__)  #current file nai flask app ho vanna khojeko"
   ]
  },
  {
   "cell_type": "code",
   "execution_count": 26,
   "id": "e4cd5f6f-8534-41b7-aa53-011106499d2b",
   "metadata": {},
   "outputs": [],
   "source": [
    "##if __name == \"__main__\":  aafule execute/run garne file ho => __name__ = \"__main__\""
   ]
  },
  {
   "cell_type": "code",
   "execution_count": 27,
   "id": "2296f9fa-d13c-4299-9445-cda56240adb1",
   "metadata": {},
   "outputs": [],
   "source": [
    "@app.route(\"/predict\", methods = [\"POST\"])  #inputt chha vane post, output matra chayo vane get\n",
    "def mpg_prediction():\n",
    "    content = request.json\n",
    "    error = []\n",
    "    # check if input is correct or not\n",
    "    for name in Expected:\n",
    "        min_value = Expected[name][\"min\"]\n",
    "        max_value = Expected[name][\"max\"]\n",
    "        value = content[name]\n",
    "        if value > max_value or value < min_value:\n",
    "            error.append(f\"{name} Out of Bound\")\n",
    "    x = np.zeros((1,7)) # [8,300,0,0,0,0,0]\n",
    "    if len(error) <= 0:\n",
    "        for i, name in enumerate(content):\n",
    "            x[0,i] = content[name] # test data# [8,300,0,0,0,0,0]\n",
    "        return {\"prediction\" : str(model.predict(x)[0][0])}\n",
    "    else:\n",
    "         return {\"failed prediction\" : error}"
   ]
  },
  {
   "cell_type": "code",
   "execution_count": null,
   "id": "220aa915-96c4-4137-af45-0534b96773b8",
   "metadata": {},
   "outputs": [
    {
     "name": "stdout",
     "output_type": "stream",
     "text": [
      " * Serving Flask app '__main__'\n",
      " * Debug mode: on\n"
     ]
    },
    {
     "name": "stderr",
     "output_type": "stream",
     "text": [
      "INFO:werkzeug:\u001b[31m\u001b[1mWARNING: This is a development server. Do not use it in a production deployment. Use a production WSGI server instead.\u001b[0m\n",
      " * Running on http://127.0.0.1:5000\n",
      "INFO:werkzeug:\u001b[33mPress CTRL+C to quit\u001b[0m\n"
     ]
    },
    {
     "name": "stdout",
     "output_type": "stream",
     "text": [
      "\u001b[1m1/1\u001b[0m \u001b[32m━━━━━━━━━━━━━━━━━━━━\u001b[0m\u001b[37m\u001b[0m \u001b[1m0s\u001b[0m 436ms/step\n"
     ]
    },
    {
     "name": "stderr",
     "output_type": "stream",
     "text": [
      "INFO:werkzeug:127.0.0.1 - - [01/Dec/2024 04:54:41] \"POST /predict HTTP/1.1\" 200 -\n",
      "INFO:werkzeug:127.0.0.1 - - [01/Dec/2024 05:03:53] \"POST /predict HTTP/1.1\" 200 -\n",
      "INFO:werkzeug:127.0.0.1 - - [01/Dec/2024 05:04:31] \"POST /predict HTTP/1.1\" 200 -\n"
     ]
    },
    {
     "name": "stdout",
     "output_type": "stream",
     "text": [
      "\u001b[1m1/1\u001b[0m \u001b[32m━━━━━━━━━━━━━━━━━━━━\u001b[0m\u001b[37m\u001b[0m \u001b[1m0s\u001b[0m 59ms/step\n"
     ]
    },
    {
     "name": "stderr",
     "output_type": "stream",
     "text": [
      "INFO:werkzeug:127.0.0.1 - - [01/Dec/2024 05:04:38] \"POST /predict HTTP/1.1\" 200 -\n",
      "INFO:werkzeug:127.0.0.1 - - [01/Dec/2024 05:04:48] \"POST /predict HTTP/1.1\" 200 -\n"
     ]
    }
   ],
   "source": [
    "if __name__ == \"__main__\":\n",
    "    app.run(debug = True, use_reloader = False)"
   ]
  },
  {
   "cell_type": "code",
   "execution_count": 17,
   "id": "d7481857-0f47-4704-9e6b-dbcfc7b38a27",
   "metadata": {},
   "outputs": [],
   "source": [
    "#linear regression / logistic regression "
   ]
  },
  {
   "cell_type": "code",
   "execution_count": null,
   "id": "e8ddafde-c4db-4dcd-9461-ae5f191679b1",
   "metadata": {},
   "outputs": [],
   "source": []
  }
 ],
 "metadata": {
  "kernelspec": {
   "display_name": "Python 3 (ipykernel)",
   "language": "python",
   "name": "python3"
  },
  "language_info": {
   "codemirror_mode": {
    "name": "ipython",
    "version": 3
   },
   "file_extension": ".py",
   "mimetype": "text/x-python",
   "name": "python",
   "nbconvert_exporter": "python",
   "pygments_lexer": "ipython3",
   "version": "3.12.4"
  }
 },
 "nbformat": 4,
 "nbformat_minor": 5
}
