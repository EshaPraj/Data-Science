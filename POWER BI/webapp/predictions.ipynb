{
 "cells": [
  {
   "cell_type": "code",
   "execution_count": 6,
   "id": "e798bc14",
   "metadata": {},
   "outputs": [],
   "source": [
    "x = np.zeros((1,7))"
   ]
  },
  {
   "cell_type": "code",
   "execution_count": 8,
   "id": "96801b9f",
   "metadata": {},
   "outputs": [],
   "source": [
    "#cylinders \tdisplacement \thorsepower \tweight \tacceleration \tyear \torigin\n",
    "\n",
    "x[0,0] = 8\n",
    "x[0,1] = 400\n",
    "x[0,2] = 80\n",
    "x[0,3] = 2000\n",
    "x[0,4] = 19\n",
    "x[0,5] = 72\n",
    "x[0,6] = 1"
   ]
  }
 ],
 "metadata": {
  "kernelspec": {
   "display_name": "Python 3 (ipykernel)",
   "language": "python",
   "name": "python3"
  },
  "language_info": {
   "codemirror_mode": {
    "name": "ipython",
    "version": 3
   },
   "file_extension": ".py",
   "mimetype": "text/x-python",
   "name": "python",
   "nbconvert_exporter": "python",
   "pygments_lexer": "ipython3",
   "version": "3.11.3"
  }
 },
 "nbformat": 4,
 "nbformat_minor": 5
}
