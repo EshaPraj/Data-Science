{
 "cells": [
  {
   "cell_type": "code",
   "execution_count": 37,
   "id": "b43fe8b1",
   "metadata": {},
   "outputs": [],
   "source": [
    "import requests\n",
    "input_json = {\n",
    "    \"cylinder\": 8,\n",
    "    \"displacement\": 500,\n",
    "    \"horsepower\": 78,\n",
    "    \"weight\": 3500,\n",
    "    \"acceleration\": 10,\n",
    "    \"year\": 76,\n",
    "    \"origin\": 1\n",
    "}"
   ]
  },
  {
   "cell_type": "code",
   "execution_count": 38,
   "id": "5495c690",
   "metadata": {},
   "outputs": [],
   "source": [
    "r = requests.post(\"http://127.0.0.1:5000/predict\", json=input_json)"
   ]
  },
  {
   "cell_type": "code",
   "execution_count": 39,
   "id": "83ea9f7b-380b-41dc-8fae-84f80b7fc364",
   "metadata": {},
   "outputs": [
    {
     "data": {
      "text/plain": [
       "<Response [200]>"
      ]
     },
     "execution_count": 39,
     "metadata": {},
     "output_type": "execute_result"
    }
   ],
   "source": [
    "r   #r edi 200 aayo vane milyo, 404 vanya not found, 500 aayo vane server down"
   ]
  },
  {
   "cell_type": "code",
   "execution_count": 40,
   "id": "b0069808",
   "metadata": {},
   "outputs": [
    {
     "name": "stdout",
     "output_type": "stream",
     "text": [
      "Works: {\n",
      "  \"failed prediction\": [\n",
      "    \"displacement Out of Bound\"\n",
      "  ]\n",
      "}\n",
      "\n"
     ]
    }
   ],
   "source": [
    "if r.status_code == 200:\n",
    "    print(f\"Works: {r.text}\")\n",
    "else:\n",
    "    print(f\"Failed: {r.text}\")"
   ]
  },
  {
   "cell_type": "code",
   "execution_count": null,
   "id": "e381ec95-891e-40bc-925c-22353c3d3594",
   "metadata": {},
   "outputs": [],
   "source": []
  },
  {
   "cell_type": "code",
   "execution_count": null,
   "id": "6eb8e9cf-66a2-40c2-82d1-261a92bade23",
   "metadata": {},
   "outputs": [],
   "source": []
  }
 ],
 "metadata": {
  "kernelspec": {
   "display_name": "Python 3 (ipykernel)",
   "language": "python",
   "name": "python3"
  },
  "language_info": {
   "codemirror_mode": {
    "name": "ipython",
    "version": 3
   },
   "file_extension": ".py",
   "mimetype": "text/x-python",
   "name": "python",
   "nbconvert_exporter": "python",
   "pygments_lexer": "ipython3",
   "version": "3.12.4"
  }
 },
 "nbformat": 4,
 "nbformat_minor": 5
}
