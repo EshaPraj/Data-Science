{
 "cells": [
  {
   "cell_type": "code",
   "execution_count": 2,
   "id": "e06fe034-cec5-45f7-95a4-255512bf0f72",
   "metadata": {},
   "outputs": [],
   "source": [
    "import pandas as pd"
   ]
  },
  {
   "cell_type": "code",
   "execution_count": 3,
   "id": "a94141ee-0ee4-449a-b375-aec6dfc9586b",
   "metadata": {},
   "outputs": [],
   "source": [
    "df = pd.read_csv(\"heart.data.csv\")"
   ]
  },
  {
   "cell_type": "code",
   "execution_count": 4,
   "id": "eecd53d6-666e-4301-891e-a42794634e98",
   "metadata": {},
   "outputs": [
    {
     "data": {
      "text/html": [
       "<div>\n",
       "<style scoped>\n",
       "    .dataframe tbody tr th:only-of-type {\n",
       "        vertical-align: middle;\n",
       "    }\n",
       "\n",
       "    .dataframe tbody tr th {\n",
       "        vertical-align: top;\n",
       "    }\n",
       "\n",
       "    .dataframe thead th {\n",
       "        text-align: right;\n",
       "    }\n",
       "</style>\n",
       "<table border=\"1\" class=\"dataframe\">\n",
       "  <thead>\n",
       "    <tr style=\"text-align: right;\">\n",
       "      <th></th>\n",
       "      <th>Unnamed: 0</th>\n",
       "      <th>biking</th>\n",
       "      <th>smoking</th>\n",
       "      <th>heart.disease</th>\n",
       "    </tr>\n",
       "  </thead>\n",
       "  <tbody>\n",
       "    <tr>\n",
       "      <th>0</th>\n",
       "      <td>1</td>\n",
       "      <td>30.801246</td>\n",
       "      <td>10.896608</td>\n",
       "      <td>11.769423</td>\n",
       "    </tr>\n",
       "    <tr>\n",
       "      <th>1</th>\n",
       "      <td>2</td>\n",
       "      <td>65.129215</td>\n",
       "      <td>2.219563</td>\n",
       "      <td>2.854081</td>\n",
       "    </tr>\n",
       "    <tr>\n",
       "      <th>2</th>\n",
       "      <td>3</td>\n",
       "      <td>1.959665</td>\n",
       "      <td>17.588331</td>\n",
       "      <td>17.177803</td>\n",
       "    </tr>\n",
       "    <tr>\n",
       "      <th>3</th>\n",
       "      <td>4</td>\n",
       "      <td>44.800196</td>\n",
       "      <td>2.802559</td>\n",
       "      <td>6.816647</td>\n",
       "    </tr>\n",
       "    <tr>\n",
       "      <th>4</th>\n",
       "      <td>5</td>\n",
       "      <td>69.428454</td>\n",
       "      <td>15.974505</td>\n",
       "      <td>4.062224</td>\n",
       "    </tr>\n",
       "    <tr>\n",
       "      <th>...</th>\n",
       "      <td>...</td>\n",
       "      <td>...</td>\n",
       "      <td>...</td>\n",
       "      <td>...</td>\n",
       "    </tr>\n",
       "    <tr>\n",
       "      <th>493</th>\n",
       "      <td>494</td>\n",
       "      <td>47.660440</td>\n",
       "      <td>27.562464</td>\n",
       "      <td>11.294392</td>\n",
       "    </tr>\n",
       "    <tr>\n",
       "      <th>494</th>\n",
       "      <td>495</td>\n",
       "      <td>45.097203</td>\n",
       "      <td>21.385620</td>\n",
       "      <td>9.616762</td>\n",
       "    </tr>\n",
       "    <tr>\n",
       "      <th>495</th>\n",
       "      <td>496</td>\n",
       "      <td>8.279743</td>\n",
       "      <td>6.423720</td>\n",
       "      <td>13.495168</td>\n",
       "    </tr>\n",
       "    <tr>\n",
       "      <th>496</th>\n",
       "      <td>497</td>\n",
       "      <td>42.345863</td>\n",
       "      <td>20.741328</td>\n",
       "      <td>10.115865</td>\n",
       "    </tr>\n",
       "    <tr>\n",
       "      <th>497</th>\n",
       "      <td>498</td>\n",
       "      <td>30.774254</td>\n",
       "      <td>23.610175</td>\n",
       "      <td>11.843556</td>\n",
       "    </tr>\n",
       "  </tbody>\n",
       "</table>\n",
       "<p>498 rows × 4 columns</p>\n",
       "</div>"
      ],
      "text/plain": [
       "     Unnamed: 0     biking    smoking  heart.disease\n",
       "0             1  30.801246  10.896608      11.769423\n",
       "1             2  65.129215   2.219563       2.854081\n",
       "2             3   1.959665  17.588331      17.177803\n",
       "3             4  44.800196   2.802559       6.816647\n",
       "4             5  69.428454  15.974505       4.062224\n",
       "..          ...        ...        ...            ...\n",
       "493         494  47.660440  27.562464      11.294392\n",
       "494         495  45.097203  21.385620       9.616762\n",
       "495         496   8.279743   6.423720      13.495168\n",
       "496         497  42.345863  20.741328      10.115865\n",
       "497         498  30.774254  23.610175      11.843556\n",
       "\n",
       "[498 rows x 4 columns]"
      ]
     },
     "execution_count": 4,
     "metadata": {},
     "output_type": "execute_result"
    }
   ],
   "source": [
    "df"
   ]
  },
  {
   "cell_type": "code",
   "execution_count": 5,
   "id": "8e61a5f0-ab2b-4c55-a158-942c13b26589",
   "metadata": {},
   "outputs": [
    {
     "data": {
      "text/plain": [
       "Index(['Unnamed: 0', 'biking', 'smoking', 'heart.disease'], dtype='object')"
      ]
     },
     "execution_count": 5,
     "metadata": {},
     "output_type": "execute_result"
    }
   ],
   "source": [
    "df.columns"
   ]
  },
  {
   "cell_type": "code",
   "execution_count": 6,
   "id": "7232df91-8fa4-47fc-bd23-d07a8a46ca89",
   "metadata": {},
   "outputs": [],
   "source": [
    "X = df[[\"biking\", \"smoking\"]]    #multiple linear regression (dui ya dui vanda badhi X)\n",
    "y = df[\"heart.disease\"]"
   ]
  },
  {
   "cell_type": "code",
   "execution_count": 7,
   "id": "2d3187fc-2976-4024-85e3-a68e420d1666",
   "metadata": {},
   "outputs": [
    {
     "data": {
      "text/plain": [
       "0      11.769423\n",
       "1       2.854081\n",
       "2      17.177803\n",
       "3       6.816647\n",
       "4       4.062224\n",
       "         ...    \n",
       "493    11.294392\n",
       "494     9.616762\n",
       "495    13.495168\n",
       "496    10.115865\n",
       "497    11.843556\n",
       "Name: heart.disease, Length: 498, dtype: float64"
      ]
     },
     "execution_count": 7,
     "metadata": {},
     "output_type": "execute_result"
    }
   ],
   "source": [
    "X.iloc[:, 0]  #biking\n",
    "X.iloc[:, 1]  #smoking\n",
    "y"
   ]
  },
  {
   "cell_type": "code",
   "execution_count": 8,
   "id": "c258ffc9-0167-495a-9239-2758ed64b000",
   "metadata": {},
   "outputs": [],
   "source": [
    "N = len(X)\n",
    "import numpy as np\n",
    "omega0 = np.random.randn(1)\n",
    "omega1 = np.random.randn(1)\n",
    "omega2 = np.random.randn(1)\n",
    "learning_rate = 0.01 \n",
    "n_iterations = 100"
   ]
  },
  {
   "cell_type": "code",
   "execution_count": 9,
   "id": "e6604a6a-978c-4bc6-aaa0-c23359175fad",
   "metadata": {},
   "outputs": [
    {
     "name": "stdout",
     "output_type": "stream",
     "text": [
      "[-7.23587547e+158]\n",
      "[-3.51250428e+160]\n",
      "[-1.15958265e+160]\n"
     ]
    }
   ],
   "source": [
    "for i in range(n_iterations):\n",
    "    y_pred = omega0 + omega1 * X.iloc[:, 0] + omega2 * X.iloc[:, 1]\n",
    "    error = y_pred - y # y_actual = y  error \n",
    "\n",
    "    omega0_d = (2/N) * np.sum(error) \n",
    "    omega1_d = (2/N) * np.sum(error * X.iloc[:, 0]) \n",
    "    omega2_d = (2/N) * np.sum(error * X.iloc[:, 1])\n",
    "    \n",
    "    # GD algorithm\n",
    "    omega0 = omega0 - learning_rate  * omega0_d\n",
    "    omega1 = omega1 - learning_rate  * omega1_d\n",
    "    omega2 = omega2 - learning_rate  * omega2_d\n",
    "\n",
    "print(omega0)\n",
    "print(omega1)\n",
    "print(omega2)"
   ]
  },
  {
   "cell_type": "code",
   "execution_count": 10,
   "id": "7623a71d-7543-4ce2-a1e3-fa02562591d4",
   "metadata": {},
   "outputs": [],
   "source": [
    "#output ma NAN/ -inf aaunu ko reason: curve bahira gayo vane : Early stopping garyo vane\n",
    "#NAN : kunai data NA ma chha vaye\n",
    "\n",
    "#scikit-learn -> traditional ML, linear model\n",
    "\n",
    "#non-linear data : neural network  \n",
    "#non- linear : transformation : linear (sake samma linear banauna khojne)\n",
    "#neural network : non-linear : big data : data hungry : transformer, tensorflow\n",
    "#jabarjasti nonlinear : activation function\n"
   ]
  },
  {
   "cell_type": "code",
   "execution_count": 11,
   "id": "5c6aca49-515b-4d49-beb9-21b2520c05b0",
   "metadata": {},
   "outputs": [],
   "source": [
    "from sklearn.model_selection import train_test_split\n",
    "Xtrain, Xtest, ytrain, ytest = train_test_split(X, y, train_size = 0.8, random_state = 4444) #80% training, 20% testing"
   ]
  },
  {
   "cell_type": "code",
   "execution_count": 12,
   "id": "0ff39152-8e49-40d1-9be8-0372da8ff28a",
   "metadata": {},
   "outputs": [
    {
     "data": {
      "text/plain": [
       "224     5.690649\n",
       "223    11.372997\n",
       "135    13.003842\n",
       "227     6.662075\n",
       "111     6.559336\n",
       "         ...    \n",
       "411    18.673457\n",
       "303     6.573051\n",
       "169     9.387908\n",
       "413    13.770232\n",
       "41     11.535735\n",
       "Name: heart.disease, Length: 398, dtype: float64"
      ]
     },
     "execution_count": 12,
     "metadata": {},
     "output_type": "execute_result"
    }
   ],
   "source": [
    "ytrain"
   ]
  },
  {
   "cell_type": "code",
   "execution_count": 13,
   "id": "b2c1812d-a8e1-4b24-8568-f5bce9a70acc",
   "metadata": {},
   "outputs": [
    {
     "name": "stdout",
     "output_type": "stream",
     "text": [
      "[2.39364031e+159]\n",
      "[1.17538369e+161]\n",
      "[3.84807882e+160]\n"
     ]
    }
   ],
   "source": [
    "N = len(Xtrain)\n",
    "import numpy as np\n",
    "omega0 = np.random.randn(1)\n",
    "omega1 = np.random.randn(1)\n",
    "omega2 = np.random.randn(1)\n",
    "learning_rate = 0.01 \n",
    "n_iterations = 100\n",
    "for i in range(n_iterations):\n",
    "    y_pred = omega0 + omega1 * Xtrain.iloc[:, 0] + omega2 * Xtrain.iloc[:, 1]\n",
    "    error = y_pred - ytrain # y_actual = y  error \n",
    "\n",
    "    omega0_d = (2/N) * np.sum(error) \n",
    "    omega1_d = (2/N) * np.sum(error * Xtrain.iloc[:, 0]) \n",
    "    omega2_d = (2/N) * np.sum(error * Xtrain.iloc[:, 1])\n",
    "    \n",
    "    # GD algorithm\n",
    "    omega0 = omega0 - learning_rate  * omega0_d\n",
    "    omega1 = omega1 - learning_rate  * omega1_d\n",
    "    omega2 = omega2 - learning_rate  * omega2_d\n",
    "\n",
    "print(omega0)\n",
    "print(omega1)\n",
    "print(omega2)"
   ]
  },
  {
   "cell_type": "code",
   "execution_count": 14,
   "id": "6d7eab4c-f3d7-4a5c-95f8-f39745e96c68",
   "metadata": {},
   "outputs": [],
   "source": [
    "#wustai range ko omega value aayo vane ramro - stable thesis"
   ]
  },
  {
   "cell_type": "code",
   "execution_count": 15,
   "id": "abf9bea5-1a86-4ef0-82a4-5be0338e9356",
   "metadata": {},
   "outputs": [],
   "source": [
    "#comparable\n",
    "#ML: exploding gradient problem\n",
    "\n",
    "#feature engineering : solution dini"
   ]
  },
  {
   "cell_type": "code",
   "execution_count": null,
   "id": "41953cb7-9ae0-4fe9-8b38-adfc32add5e5",
   "metadata": {},
   "outputs": [],
   "source": []
  },
  {
   "cell_type": "code",
   "execution_count": null,
   "id": "771275fb-4408-48b3-9ddf-f41a12d38271",
   "metadata": {},
   "outputs": [],
   "source": []
  }
 ],
 "metadata": {
  "kernelspec": {
   "display_name": "Python 3 (ipykernel)",
   "language": "python",
   "name": "python3"
  },
  "language_info": {
   "codemirror_mode": {
    "name": "ipython",
    "version": 3
   },
   "file_extension": ".py",
   "mimetype": "text/x-python",
   "name": "python",
   "nbconvert_exporter": "python",
   "pygments_lexer": "ipython3",
   "version": "3.12.4"
  }
 },
 "nbformat": 4,
 "nbformat_minor": 5
}
