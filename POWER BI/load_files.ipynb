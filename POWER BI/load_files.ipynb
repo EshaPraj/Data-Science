{
 "cells": [
  {
   "cell_type": "code",
   "execution_count": 2,
   "id": "b35ceb19-b985-4f37-b117-6fc6f367a586",
   "metadata": {},
   "outputs": [],
   "source": [
    "from sklearn.datasets import load_files"
   ]
  },
  {
   "cell_type": "code",
   "execution_count": 3,
   "id": "2064c667-686c-427b-ab1c-b789863b4b71",
   "metadata": {},
   "outputs": [],
   "source": [
    "#panda import garne in case of file vitra ko euta data load garne vaye natra files nai load garne vaye sklearn"
   ]
  },
  {
   "cell_type": "code",
   "execution_count": 4,
   "id": "62967dd2-898e-456e-be6c-4c14df3e6b99",
   "metadata": {},
   "outputs": [],
   "source": [
    "reviews = load_files(r\"C:\\Users\\Venom\\Desktop\\txt_sentoken\")"
   ]
  },
  {
   "cell_type": "code",
   "execution_count": 5,
   "id": "c8cc19c0-a63c-4fb7-af81-054391382a3a",
   "metadata": {},
   "outputs": [],
   "source": [
    "x, y = reviews.data, reviews.target"
   ]
  },
  {
   "cell_type": "code",
   "execution_count": 8,
   "id": "0083025f-1e6d-4b5a-a045-39eb3f52ee77",
   "metadata": {},
   "outputs": [
    {
     "ename": "NameError",
     "evalue": "name 'X' is not defined",
     "output_type": "error",
     "traceback": [
      "\u001b[1;31m---------------------------------------------------------------------------\u001b[0m",
      "\u001b[1;31mNameError\u001b[0m                                 Traceback (most recent call last)",
      "Cell \u001b[1;32mIn[8], line 9\u001b[0m\n\u001b[0;32m      7\u001b[0m corpus \u001b[38;5;241m=\u001b[39m []\n\u001b[0;32m      8\u001b[0m \u001b[38;5;28;01mimport\u001b[39;00m \u001b[38;5;21;01mre\u001b[39;00m\n\u001b[1;32m----> 9\u001b[0m \u001b[38;5;28;01mfor\u001b[39;00m i \u001b[38;5;129;01min\u001b[39;00m \u001b[43mX\u001b[49m:\n\u001b[0;32m     10\u001b[0m     reviews \u001b[38;5;241m=\u001b[39m re\u001b[38;5;241m.\u001b[39msub(\u001b[38;5;124mr\u001b[39m\u001b[38;5;124m'\u001b[39m\u001b[38;5;124m\\\u001b[39m\u001b[38;5;124mW\u001b[39m\u001b[38;5;124m'\u001b[39m, \u001b[38;5;124m\"\u001b[39m\u001b[38;5;124m \u001b[39m\u001b[38;5;124m\"\u001b[39m, \u001b[38;5;28mstr\u001b[39m(i))\n\u001b[0;32m     11\u001b[0m     reviews \u001b[38;5;241m=\u001b[39m reviews\u001b[38;5;241m.\u001b[39mlower()\n",
      "\u001b[1;31mNameError\u001b[0m: name 'X' is not defined"
     ]
    }
   ],
   "source": [
    "#preprocessing\n",
    "\n",
    "#1. unnecssary punctuality lai falne\n",
    "#2. lower case ma lagne\n",
    "#3. extra spaces haru falyo  -  s+ = 1 or more,, s*=- 0or= more\n",
    "\n",
    "corpus = []\n",
    "import re\n",
    "for i in X:\n",
    "    reviews = re.sub(r'\\W', \" \", str(i))\n",
    "    reviews = reviews.lower()\n",
    "    reviews = re.sub(r\"\\s+\", \" \", reviews)\n",
    "    \n",
    "    corpus.apppend(reviews)"
   ]
  },
  {
   "cell_type": "code",
   "execution_count": 9,
   "id": "dc8cf6be-623b-49a8-a230-4c9a08234383",
   "metadata": {},
   "outputs": [
    {
     "ename": "ModuleNotFoundError",
     "evalue": "No module named 'nltk'",
     "output_type": "error",
     "traceback": [
      "\u001b[1;31m---------------------------------------------------------------------------\u001b[0m",
      "\u001b[1;31mModuleNotFoundError\u001b[0m                       Traceback (most recent call last)",
      "Cell \u001b[1;32mIn[9], line 2\u001b[0m\n\u001b[0;32m      1\u001b[0m \u001b[38;5;28;01mfrom\u001b[39;00m \u001b[38;5;21;01msklearn\u001b[39;00m\u001b[38;5;21;01m.\u001b[39;00m\u001b[38;5;21;01mfeature_extraction\u001b[39;00m\u001b[38;5;21;01m.\u001b[39;00m\u001b[38;5;21;01mtext\u001b[39;00m \u001b[38;5;28;01mimport\u001b[39;00m CountVectorizer \u001b[38;5;66;03m# BOW \u001b[39;00m\n\u001b[1;32m----> 2\u001b[0m \u001b[38;5;28;01mfrom\u001b[39;00m \u001b[38;5;21;01mnltk\u001b[39;00m\u001b[38;5;21;01m.\u001b[39;00m\u001b[38;5;21;01mcorpus\u001b[39;00m \u001b[38;5;28;01mimport\u001b[39;00m stopwords\n\u001b[0;32m      3\u001b[0m cv \u001b[38;5;241m=\u001b[39m CountVectorizer(max_features \u001b[38;5;241m=\u001b[39m \u001b[38;5;241m1000\u001b[39m, min_df \u001b[38;5;241m=\u001b[39m \u001b[38;5;241m3\u001b[39m, max_df \u001b[38;5;241m=\u001b[39m \u001b[38;5;241m0.6\u001b[39m, \n\u001b[0;32m      4\u001b[0m                                  stop_words \u001b[38;5;241m=\u001b[39m stopwords\u001b[38;5;241m.\u001b[39mwords(\u001b[38;5;124m\"\u001b[39m\u001b[38;5;124menglish\u001b[39m\u001b[38;5;124m\"\u001b[39m))\n\u001b[0;32m      6\u001b[0m cv\u001b[38;5;241m.\u001b[39mfit_transform(corpus)\u001b[38;5;241m.\u001b[39mtoarray()\n",
      "\u001b[1;31mModuleNotFoundError\u001b[0m: No module named 'nltk'"
     ]
    }
   ],
   "source": [
    "from sklearn.feature_extraction.text import CountVectorizer # BOW \n",
    "from nltk.corpus import stopwords\n",
    "cv = CountVectorizer(max_features = 1000, min_df = 3, max_df = 0.6, \n",
    "                                 stop_words = stopwords.words(\"english\"))\n",
    " \n",
    "cv.fit_transform(corpus).toarray()"
   ]
  },
  {
   "cell_type": "code",
   "execution_count": null,
   "id": "47bd85a7-b33f-4bd8-8928-4952b9b75b34",
   "metadata": {},
   "outputs": [],
   "source": []
  }
 ],
 "metadata": {
  "kernelspec": {
   "display_name": "Python 3 (ipykernel)",
   "language": "python",
   "name": "python3"
  },
  "language_info": {
   "codemirror_mode": {
    "name": "ipython",
    "version": 3
   },
   "file_extension": ".py",
   "mimetype": "text/x-python",
   "name": "python",
   "nbconvert_exporter": "python",
   "pygments_lexer": "ipython3",
   "version": "3.12.4"
  }
 },
 "nbformat": 4,
 "nbformat_minor": 5
}
