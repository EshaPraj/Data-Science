{
 "cells": [
  {
   "cell_type": "code",
   "execution_count": null,
   "id": "4c0577c2-cfbb-46fc-98bc-83116cb78f1f",
   "metadata": {},
   "outputs": [],
   "source": [
    "#machine learning ko history\n",
    "import numpy as np\n",
    "X = np.array([1,2,3,4,4,5,5,6,6,7])\n",
    "y = np.array([7,8,9,8,9,11,10,13,14,13])\n",
    " \n",
    "# y = c + mX\n",
    "# y = w0 + w1 * X\n",
    " \n",
    "# ML model : find w0 (c) and w1(m)\n",
    "# w0 -> c \n",
    "# w1 -> m\n",
    "\n",
    "\n",
    "#w1 = sigmaxy / sigmaxx\n",
    "sigmaxy = np.cov(X, y)[0, 1]\n",
    "sigmaxx = np.var(X, ddof = 1)    #sample variance (error) thorai population vanda\n",
    "\n",
    "w1 = sigmaxy / sigmaxx\n",
    "\n",
    "#w0 = mean(y) - w1 * mean(X)\n",
    "w0 = np.mean(y) - w1 * np.mean(X)\n",
    "\n",
    "print(w0)\n",
    "print(w1)\n",
    "\n",
    "#y = w0 + w1 * X -> ML Model : derivative = 0\n",
    "y = 5.19 + 1.16 * X #model\n",
    "# direct derivative = 0nagarne :local solution : best solution hudaina\n",
    "#gradient descent : tomorrow"
   ]
  }
 ],
 "metadata": {
  "kernelspec": {
   "display_name": "Python 3 (ipykernel)",
   "language": "python",
   "name": "python3"
  },
  "language_info": {
   "codemirror_mode": {
    "name": "ipython",
    "version": 3
   },
   "file_extension": ".py",
   "mimetype": "text/x-python",
   "name": "python",
   "nbconvert_exporter": "python",
   "pygments_lexer": "ipython3",
   "version": "3.12.4"
  }
 },
 "nbformat": 4,
 "nbformat_minor": 5
}
