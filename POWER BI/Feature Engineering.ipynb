{
 "cells": [
  {
   "cell_type": "markdown",
   "id": "ae8a7102-c6c0-48a5-8fdf-17abbfd8fd85",
   "metadata": {},
   "source": [
    "**HANDLE NA'S missing data**"
   ]
  },
  {
   "cell_type": "code",
   "execution_count": 9,
   "id": "f7251aac-6f9d-4e67-a1dd-3c4ed657fe8e",
   "metadata": {},
   "outputs": [
    {
     "name": "stderr",
     "output_type": "stream",
     "text": [
      "C:\\Users\\Venom\\AppData\\Local\\Temp\\ipykernel_12252\\4021533578.py:14: FutureWarning: A value is trying to be set on a copy of a DataFrame or Series through chained assignment using an inplace method.\n",
      "The behavior will change in pandas 3.0. This inplace method will never work because the intermediate object on which we are setting values always behaves as a copy.\n",
      "\n",
      "For example, when doing 'df[col].method(value, inplace=True)', try using 'df.method({col: value}, inplace=True)' or df[col] = df[col].method(value) instead, to perform the operation inplace on the original object.\n",
      "\n",
      "\n",
      "  df.age.fillna(np.mean(df.age), inplace = True)\n"
     ]
    },
    {
     "data": {
      "text/html": [
       "<div>\n",
       "<style scoped>\n",
       "    .dataframe tbody tr th:only-of-type {\n",
       "        vertical-align: middle;\n",
       "    }\n",
       "\n",
       "    .dataframe tbody tr th {\n",
       "        vertical-align: top;\n",
       "    }\n",
       "\n",
       "    .dataframe thead th {\n",
       "        text-align: right;\n",
       "    }\n",
       "</style>\n",
       "<table border=\"1\" class=\"dataframe\">\n",
       "  <thead>\n",
       "    <tr style=\"text-align: right;\">\n",
       "      <th></th>\n",
       "      <th>age</th>\n",
       "      <th>salary</th>\n",
       "    </tr>\n",
       "  </thead>\n",
       "  <tbody>\n",
       "    <tr>\n",
       "      <th>0</th>\n",
       "      <td>25.0</td>\n",
       "      <td>50000.0</td>\n",
       "    </tr>\n",
       "    <tr>\n",
       "      <th>1</th>\n",
       "      <td>30.0</td>\n",
       "      <td>60000.0</td>\n",
       "    </tr>\n",
       "    <tr>\n",
       "      <th>2</th>\n",
       "      <td>32.5</td>\n",
       "      <td>55000.0</td>\n",
       "    </tr>\n",
       "    <tr>\n",
       "      <th>3</th>\n",
       "      <td>35.0</td>\n",
       "      <td>NaN</td>\n",
       "    </tr>\n",
       "    <tr>\n",
       "      <th>4</th>\n",
       "      <td>40.0</td>\n",
       "      <td>65000.0</td>\n",
       "    </tr>\n",
       "  </tbody>\n",
       "</table>\n",
       "</div>"
      ],
      "text/plain": [
       "    age   salary\n",
       "0  25.0  50000.0\n",
       "1  30.0  60000.0\n",
       "2  32.5  55000.0\n",
       "3  35.0      NaN\n",
       "4  40.0  65000.0"
      ]
     },
     "execution_count": 9,
     "metadata": {},
     "output_type": "execute_result"
    }
   ],
   "source": [
    "import pandas as pd\n",
    "import numpy as np\n",
    "data = {'age': [25, 30, np.nan, 35, 40], \n",
    "                'salary': [50000, 60000, 55000, np.nan, 65000]}\n",
    "df = pd.DataFrame(data)\n",
    "#handle this NA\n",
    "#df.age.dropna()    #na falna lai\n",
    "#df.age.fillna(0) \n",
    "#mean, median\n",
    "\n",
    "#import matplotlib.pyplot as plt\n",
    "#plt.boxplot(df.age.dropna());   #symmetrical chha vaye: mean , median j le varda pani hunchha\n",
    "\n",
    "df.age.fillna(np.mean(df.age), inplace = True)\n",
    "df"
   ]
  },
  {
   "cell_type": "markdown",
   "id": "60f633f2-c9cf-4bd6-bf84-3b0c77ea9713",
   "metadata": {},
   "source": [
    "**Encoding of Categorical Variables**"
   ]
  },
  {
   "cell_type": "code",
   "execution_count": 11,
   "id": "efcf1ab5-8014-4257-8aa4-d44aa1d73685",
   "metadata": {
    "scrolled": true
   },
   "outputs": [],
   "source": [
    "import pandas as pd\n",
    "data = {'color': ['red', 'blue', 'green', 'blue', 'red']}\n",
    "df = pd.DataFrame(data)\n",
    "\n",
    "#encoding: text -> number"
   ]
  },
  {
   "cell_type": "code",
   "execution_count": 20,
   "id": "6baeb0b1-3c8f-482b-8b40-fe280c3e5c7b",
   "metadata": {},
   "outputs": [
    {
     "data": {
      "text/html": [
       "<div>\n",
       "<style scoped>\n",
       "    .dataframe tbody tr th:only-of-type {\n",
       "        vertical-align: middle;\n",
       "    }\n",
       "\n",
       "    .dataframe tbody tr th {\n",
       "        vertical-align: top;\n",
       "    }\n",
       "\n",
       "    .dataframe thead th {\n",
       "        text-align: right;\n",
       "    }\n",
       "</style>\n",
       "<table border=\"1\" class=\"dataframe\">\n",
       "  <thead>\n",
       "    <tr style=\"text-align: right;\">\n",
       "      <th></th>\n",
       "      <th>color_blue</th>\n",
       "      <th>color_green</th>\n",
       "      <th>color_red</th>\n",
       "    </tr>\n",
       "  </thead>\n",
       "  <tbody>\n",
       "    <tr>\n",
       "      <th>0</th>\n",
       "      <td>0.0</td>\n",
       "      <td>0.0</td>\n",
       "      <td>1.0</td>\n",
       "    </tr>\n",
       "    <tr>\n",
       "      <th>1</th>\n",
       "      <td>1.0</td>\n",
       "      <td>0.0</td>\n",
       "      <td>0.0</td>\n",
       "    </tr>\n",
       "    <tr>\n",
       "      <th>2</th>\n",
       "      <td>0.0</td>\n",
       "      <td>1.0</td>\n",
       "      <td>0.0</td>\n",
       "    </tr>\n",
       "    <tr>\n",
       "      <th>3</th>\n",
       "      <td>1.0</td>\n",
       "      <td>0.0</td>\n",
       "      <td>0.0</td>\n",
       "    </tr>\n",
       "    <tr>\n",
       "      <th>4</th>\n",
       "      <td>0.0</td>\n",
       "      <td>0.0</td>\n",
       "      <td>1.0</td>\n",
       "    </tr>\n",
       "  </tbody>\n",
       "</table>\n",
       "</div>"
      ],
      "text/plain": [
       "   color_blue  color_green  color_red\n",
       "0         0.0          0.0        1.0\n",
       "1         1.0          0.0        0.0\n",
       "2         0.0          1.0        0.0\n",
       "3         1.0          0.0        0.0\n",
       "4         0.0          0.0        1.0"
      ]
     },
     "execution_count": 20,
     "metadata": {},
     "output_type": "execute_result"
    }
   ],
   "source": [
    "\n",
    "#from sklearn.preprocessing import OneHotEncoder\n",
    "#one_hot = OneHotEncoder()\n",
    "#one_hot.fit_transform(np.array(df.color).reshape(-1, 1))  #fit dekhne bittikai ML garya bujhne\n",
    "#df.color euta series ho teslai reshape garna mildaina, np.array ma lageko mathi tei vayera\n",
    "#one_hot.fit_transform((df.color.values.reshape(-1, 1))  #either np.array ma laga or values add garne\n",
    "#data = {'color': ['red', 'blue', 'green', 'blue', 'red']}\n",
    "\n",
    "\n",
    "from sklearn.preprocessing import OneHotEncoder\n",
    "one_hot_encoder = OneHotEncoder()\n",
    "one_hot = one_hot_encoder.fit_transform(np.array(df.color).reshape(-1, 1)).toarray()\n",
    "pd.DataFrame(one_hot, columns = one_hot_encoder.get_feature_names_out([\"color\"]))\n",
    "#OneHotEncoding : BOW model\n",
    "#solution : TFIDF model\n",
    "#embedding : word embeding attention model"
   ]
  },
  {
   "cell_type": "code",
   "execution_count": 21,
   "id": "c760423b-f53e-4c81-ab88-51ef9d232358",
   "metadata": {},
   "outputs": [
    {
     "data": {
      "text/html": [
       "<div>\n",
       "<style scoped>\n",
       "    .dataframe tbody tr th:only-of-type {\n",
       "        vertical-align: middle;\n",
       "    }\n",
       "\n",
       "    .dataframe tbody tr th {\n",
       "        vertical-align: top;\n",
       "    }\n",
       "\n",
       "    .dataframe thead th {\n",
       "        text-align: right;\n",
       "    }\n",
       "</style>\n",
       "<table border=\"1\" class=\"dataframe\">\n",
       "  <thead>\n",
       "    <tr style=\"text-align: right;\">\n",
       "      <th></th>\n",
       "      <th>color</th>\n",
       "      <th>color_order</th>\n",
       "    </tr>\n",
       "  </thead>\n",
       "  <tbody>\n",
       "    <tr>\n",
       "      <th>0</th>\n",
       "      <td>red</td>\n",
       "      <td>2</td>\n",
       "    </tr>\n",
       "    <tr>\n",
       "      <th>1</th>\n",
       "      <td>blue</td>\n",
       "      <td>0</td>\n",
       "    </tr>\n",
       "    <tr>\n",
       "      <th>2</th>\n",
       "      <td>green</td>\n",
       "      <td>1</td>\n",
       "    </tr>\n",
       "    <tr>\n",
       "      <th>3</th>\n",
       "      <td>blue</td>\n",
       "      <td>0</td>\n",
       "    </tr>\n",
       "    <tr>\n",
       "      <th>4</th>\n",
       "      <td>red</td>\n",
       "      <td>2</td>\n",
       "    </tr>\n",
       "  </tbody>\n",
       "</table>\n",
       "</div>"
      ],
      "text/plain": [
       "   color  color_order\n",
       "0    red            2\n",
       "1   blue            0\n",
       "2  green            1\n",
       "3   blue            0\n",
       "4    red            2"
      ]
     },
     "execution_count": 21,
     "metadata": {},
     "output_type": "execute_result"
    }
   ],
   "source": [
    "import pandas as pd\n",
    "data = {'color': ['red', 'blue', 'green', 'blue', 'red']}\n",
    "df = pd.DataFrame(data)\n",
    "\n",
    "from sklearn.preprocessing import LabelEncoder\n",
    "le = LabelEncoder()\n",
    "color_order = le.fit_transform(df.color)\n",
    "df[\"color_order\"] = color_order\n",
    "df"
   ]
  },
  {
   "cell_type": "code",
   "execution_count": 27,
   "id": "63991cac-5464-44d6-8a73-ad53e76eae35",
   "metadata": {},
   "outputs": [],
   "source": [
    "# using Target Encoder from category_encoders\n",
    "\n",
    "# TargetEncoder\n",
    "!pip install category_encoders"
   ]
  },
  {
   "cell_type": "code",
   "execution_count": 23,
   "id": "3f7d742d-3eee-43b0-b583-8797dddd7c75",
   "metadata": {},
   "outputs": [
    {
     "data": {
      "text/html": [
       "<div>\n",
       "<style scoped>\n",
       "    .dataframe tbody tr th:only-of-type {\n",
       "        vertical-align: middle;\n",
       "    }\n",
       "\n",
       "    .dataframe tbody tr th {\n",
       "        vertical-align: top;\n",
       "    }\n",
       "\n",
       "    .dataframe thead th {\n",
       "        text-align: right;\n",
       "    }\n",
       "</style>\n",
       "<table border=\"1\" class=\"dataframe\">\n",
       "  <thead>\n",
       "    <tr style=\"text-align: right;\">\n",
       "      <th></th>\n",
       "      <th>category</th>\n",
       "    </tr>\n",
       "  </thead>\n",
       "  <tbody>\n",
       "    <tr>\n",
       "      <th>0</th>\n",
       "      <td>0.577233</td>\n",
       "    </tr>\n",
       "    <tr>\n",
       "      <th>1</th>\n",
       "      <td>0.429074</td>\n",
       "    </tr>\n",
       "    <tr>\n",
       "      <th>2</th>\n",
       "      <td>0.577233</td>\n",
       "    </tr>\n",
       "    <tr>\n",
       "      <th>3</th>\n",
       "      <td>0.474256</td>\n",
       "    </tr>\n",
       "    <tr>\n",
       "      <th>4</th>\n",
       "      <td>0.429074</td>\n",
       "    </tr>\n",
       "    <tr>\n",
       "      <th>5</th>\n",
       "      <td>0.474256</td>\n",
       "    </tr>\n",
       "    <tr>\n",
       "      <th>6</th>\n",
       "      <td>0.577233</td>\n",
       "    </tr>\n",
       "    <tr>\n",
       "      <th>7</th>\n",
       "      <td>0.474256</td>\n",
       "    </tr>\n",
       "  </tbody>\n",
       "</table>\n",
       "</div>"
      ],
      "text/plain": [
       "   category\n",
       "0  0.577233\n",
       "1  0.429074\n",
       "2  0.577233\n",
       "3  0.474256\n",
       "4  0.429074\n",
       "5  0.474256\n",
       "6  0.577233\n",
       "7  0.474256"
      ]
     },
     "execution_count": 23,
     "metadata": {},
     "output_type": "execute_result"
    }
   ],
   "source": [
    "import pandas as pd\n",
    "\n",
    "data = pd.DataFrame({\n",
    "    'category': ['A', 'B', 'A', 'C', 'B', 'C', 'A', 'C'],\n",
    "    'target': [1, 0, 1, 0, 0, 1, 1, 0]\n",
    "})\n",
    "\n",
    "\n",
    "\n",
    "\n",
    "#sabse gaaro and used encoder, Textmining\n",
    "from category_encoders import TargetEncoder\n",
    "te = TargetEncoder()\n",
    "te.fit_transform(data.category, data.target)"
   ]
  },
  {
   "cell_type": "code",
   "execution_count": 12,
   "id": "d23e57dc-b444-4aab-b1d9-aa46b4b094f1",
   "metadata": {},
   "outputs": [
    {
     "name": "stdout",
     "output_type": "stream",
     "text": [
      "35.0\n",
      "7.905694150420948\n"
     ]
    }
   ],
   "source": [
    "# normalization and scaling\n",
    "# importance : 99% salary importance, age less importance (model): \n",
    "# normalization : [range] : biased towards big value\n",
    "\n",
    "import pandas as pd\n",
    "#sklearn: preprocessing :  model banauda vanda agadi : ramro hoss vanera use hune\n",
    "data = {'age': [25, 30, 35, 40, 45], 'salary': [50000, 60000, 55000, 65000, 70000]}\n",
    "df = pd.DataFrame(data)\n",
    "\n",
    "#scaling or normalization:\n",
    "from sklearn.preprocessing import StandardScaler\n",
    "sc = StandardScaler()\n",
    "#sc.fit_transform(df.age.values.reshape(-1, 1))\n",
    "#sc.fit_transform(df[[\"age\"]])  #df.age = df[[\"age\"]]\n",
    "sc.fit_transform(df[[\"salary\"]])\n",
    "                 \n",
    "import numpy as np\n",
    "print(np.mean(df.age))\n",
    "print(np.std(df.age, ddof = 1))\n",
    "#z = X - U/ sigma  =>  25-35 / 7.9056 :  standard scaling, z normalization"
   ]
  },
  {
   "cell_type": "code",
   "execution_count": 13,
   "id": "06975a55-6316-4455-bc65-bc661b74936d",
   "metadata": {},
   "outputs": [
    {
     "data": {
      "text/plain": [
       "array([[0.  ],\n",
       "       [0.25],\n",
       "       [0.5 ],\n",
       "       [0.75],\n",
       "       [1.  ]])"
      ]
     },
     "execution_count": 13,
     "metadata": {},
     "output_type": "execute_result"
    }
   ],
   "source": [
    "#reshape(-1, 1)  =  row, column\n",
    "from sklearn.preprocessing import MinMaxScaler\n",
    "ms = MinMaxScaler()\n",
    "ms.fit_transform(df.age.values.reshape(-1,1))  #[0-1]"
   ]
  },
  {
   "cell_type": "code",
   "execution_count": 15,
   "id": "e0e94410-e98b-44cb-93ad-11a165ce44b6",
   "metadata": {},
   "outputs": [
    {
     "data": {
      "text/plain": [
       "array([[ 0.44362444],\n",
       "       [-2.17719404],\n",
       "       [ 0.57071239],\n",
       "       [-0.12902465],\n",
       "       [ 1.29188186]])"
      ]
     },
     "execution_count": 15,
     "metadata": {},
     "output_type": "execute_result"
    }
   ],
   "source": [
    "# dimensionality reduction\n",
    "# PCA \n",
    "import pandas as pd\n",
    "from sklearn.decomposition import PCA\n",
    "data = {'feature1': [2.5, 0.5, 2.2, 1.9, 3.1], 'feature2': [2.4, 0.7, 2.9, 2.2, 3.0]}\n",
    "df = pd.DataFrame(data)\n",
    "\n",
    "pca = PCA(n_components = 1)\n",
    "pca.fit_transform(df)\n",
    "#accuracy vs dimensionality"
   ]
  },
  {
   "cell_type": "code",
   "execution_count": null,
   "id": "59078bb3-a2a6-4102-ae87-5f41e83f8a92",
   "metadata": {},
   "outputs": [],
   "source": []
  }
 ],
 "metadata": {
  "kernelspec": {
   "display_name": "Python 3 (ipykernel)",
   "language": "python",
   "name": "python3"
  },
  "language_info": {
   "codemirror_mode": {
    "name": "ipython",
    "version": 3
   },
   "file_extension": ".py",
   "mimetype": "text/x-python",
   "name": "python",
   "nbconvert_exporter": "python",
   "pygments_lexer": "ipython3",
   "version": "3.12.4"
  }
 },
 "nbformat": 4,
 "nbformat_minor": 5
}
