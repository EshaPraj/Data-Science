{
 "cells": [
  {
   "cell_type": "code",
   "execution_count": null,
   "id": "e8ff18f1-9693-406c-a663-a39f1f68cd93",
   "metadata": {},
   "outputs": [],
   "source": [
    "#webapp\n",
    "Expected= {\n",
    "\"sbp\":{ \"min\":101, \"max\":218},\n",
    "\"tobacco\":{ \"min\":0.0, \"max\":31.2},\n",
    "\"ldl\":{ \"min\":0.98, \"max\":15.33},\n",
    "\"adiposity\":{ \"min\":6.74, \"max\":42.49},\n",
    "\"typea\":{ \"min\":13, \"max\":78},\n",
    "\"obesity\":{ \"min\":14.7, \"max\":46.58},\n",
    "\"alcohol\":{ \"min\":0.0, \"max\":147.19},\n",
    "\"age\":{ \"min\":15, \"max\":64}\n",
    "\n",
    "}"
   ]
  },
  {
   "cell_type": "code",
   "execution_count": null,
   "id": "f11c6b49-a27f-4c76-ad53-cd796add622d",
   "metadata": {},
   "outputs": [],
   "source": [
    "from tensorflow.keras.models import load_model\n",
    "model= load_model(\"assignmodel.h5\")"
   ]
  },
  {
   "cell_type": "code",
   "execution_count": null,
   "id": "6058f87f-1ba0-43b2-acd9-40049ac5392c",
   "metadata": {},
   "outputs": [],
   "source": [
    "model.summary()  #current file nai flask app ho vanna khojeko"
   ]
  },
  {
   "cell_type": "code",
   "execution_count": null,
   "id": "96aeafe0-4dc8-40da-a3c4-92648558d63d",
   "metadata": {},
   "outputs": [],
   "source": [
    "import numpy as np\n",
    "from flask import Flask, request\n",
    "\n",
    "app=Flask(__name__) #current file nai flask app ho vanera initialize garya\n",
    "\n",
    "#if __name__==\"__main__\": aafule execute/run garne file ho: imp pattern: \n",
    "#name vanya dundle variable(magic variable: __bata sure__ bata end)\n",
    "    "
   ]
  },
  {
   "cell_type": "code",
   "execution_count": null,
   "id": "670cdbe6-23b5-40da-a790-9565876203b5",
   "metadata": {},
   "outputs": [],
   "source": [
    "#decorator call: url route: kasaile predict function call garyo vane model predict garaune\n",
    "#inputt chha vane post, output matra chayo vane get\n",
    "#get vayo vane server bata lini\n",
    "@app.route(\"/predict\", methods=[\"POST\"])\n",
    "def chd_prediction():\n",
    "    content= request.json\n",
    "    error= []\n",
    "\n",
    "#imp step: check if input is correct or not so:\n",
    "    for name in Expected:\n",
    "        min_value= Expected[name][\"min\"]\n",
    "        max_value= Expected[name][\"max\"]\n",
    "        value= content[name]\n",
    "        if value > max_value or value < min_value:\n",
    "            error.append(f\"{name}Out of Bound\")\n",
    "    \n",
    "    x=np.zeros((1,8)) #8 wota input vayera, [0,0,0,0,0,0,0,0]->[160,12,5.73..]\n",
    "    #enumerate le sbp name ma gayera rakhca ani tesko index chai i ma rakhcha 0,sbp 1,tobacco or sth\n",
    "\n",
    "    if len(error) <= 0:\n",
    "        for i, name in enumerate(content): #content vaneko input,request.json le j input cha tyo lyaucha, dict ma loop launamilcha,\n",
    "            x[0,i] = content[name] #test data\n",
    "        return {\"prediction\": str(model.predict(x)[0][0])}\n",
    "    #input and returrn dubai dictionary ma huncha webapp ma\n",
    "    else:\n",
    "        return {\"failed prediction\": error}"
   ]
  },
  {
   "cell_type": "code",
   "execution_count": null,
   "id": "d09011e5-20ef-4d05-bd6e-af1b73d8e977",
   "metadata": {},
   "outputs": [],
   "source": [
    "if __name__==\"__main__\":\n",
    "    app.run(debug=True, use_reloader=False)"
   ]
  },
  {
   "cell_type": "code",
   "execution_count": null,
   "id": "8eb94130-7db5-4b4f-bbf7-a492c03dea0d",
   "metadata": {},
   "outputs": [],
   "source": []
  }
 ],
 "metadata": {
  "kernelspec": {
   "display_name": "Python 3 (ipykernel)",
   "language": "python",
   "name": "python3"
  },
  "language_info": {
   "codemirror_mode": {
    "name": "ipython",
    "version": 3
   },
   "file_extension": ".py",
   "mimetype": "text/x-python",
   "name": "python",
   "nbconvert_exporter": "python",
   "pygments_lexer": "ipython3",
   "version": "3.12.4"
  }
 },
 "nbformat": 4,
 "nbformat_minor": 5
}
