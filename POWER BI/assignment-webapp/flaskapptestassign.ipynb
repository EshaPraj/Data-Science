{
 "cells": [
  {
   "cell_type": "code",
   "execution_count": 5,
   "id": "bc00b551-c60e-4168-b92c-9841b449cd15",
   "metadata": {},
   "outputs": [],
   "source": [
    "import requests\n",
    "input_json ={\n",
    "    \"sbp\":150,\n",
    "    \"tobacco\":1,\n",
    "    \"ldl\":5,\n",
    "    \"adiposity\":20,\n",
    "    \"typea\":20,\n",
    "    \"obesity\":15,\n",
    "    \"alcohol\":1,\n",
    "    \"age\":21\n",
    "}"
   ]
  },
  {
   "cell_type": "code",
   "execution_count": 6,
   "id": "8ed46378-fd15-4d36-8c1c-ade4ff11095c",
   "metadata": {},
   "outputs": [],
   "source": [
    "r = requests.post(\"http://localhost:5000/predict\", json = input_json)"
   ]
  },
  {
   "cell_type": "code",
   "execution_count": 7,
   "id": "7171a5e7-f3df-4ed8-9e74-24ba16a8459a",
   "metadata": {},
   "outputs": [
    {
     "name": "stdout",
     "output_type": "stream",
     "text": [
      "Works: {\n",
      "  \"prediction\": \"1.0\"\n",
      "}\n",
      "\n"
     ]
    }
   ],
   "source": [
    "if r.status_code == 200:\n",
    "    print(f\"Works: {r.text}\")\n",
    "else:\n",
    "    print(f\"Failed: {r.text}\")"
   ]
  },
  {
   "cell_type": "code",
   "execution_count": null,
   "id": "905c4baa-209e-4af0-b807-bab57292b483",
   "metadata": {},
   "outputs": [],
   "source": []
  }
 ],
 "metadata": {
  "kernelspec": {
   "display_name": "Python 3 (ipykernel)",
   "language": "python",
   "name": "python3"
  },
  "language_info": {
   "codemirror_mode": {
    "name": "ipython",
    "version": 3
   },
   "file_extension": ".py",
   "mimetype": "text/x-python",
   "name": "python",
   "nbconvert_exporter": "python",
   "pygments_lexer": "ipython3",
   "version": "3.12.4"
  }
 },
 "nbformat": 4,
 "nbformat_minor": 5
}
